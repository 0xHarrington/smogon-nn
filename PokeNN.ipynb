{
 "cells": [
  {
   "cell_type": "markdown",
   "metadata": {},
   "source": [
    "# Reinforcement Learning in Pokemon Battles\n",
    "#### How well can an autonomous agent play pokemon?\n",
    "---\n",
    "\n",
    "> Smogon.com/stats maintains an index of past and present metagame data. We can use this as both a starting point, and a metric for an agent's effectiveness.\n",
    "\n",
    "\n",
    "**Main Ideas**:\n",
    "- Two Neural Nets are necessary:\n",
    "    1. Pre-match, what pokemon do I choose?\n",
    "        - Input: all pokemon and their potential moves/abilities/stats/helditems/etc. \n",
    "        - Potential for repsonsive, counter-picking?\n",
    "        - Outputs 6 Pokemon, their moves, held items, IVs, Abilities, & who leads\n",
    "    2. Mid-match, what action do I take for this turn?\n",
    "        - Takes as input...\n",
    "            - Enemy: HPs, status, types, idealized stats\n",
    "            - Player: HPs, statuses, types, stats, and the same for all other Mons' \n",
    "- Both Nets will train via reinforcement learning.\n",
    "- Tother, they make a competitive pokemon-playing agent that will train against itself for millenia\n",
    "\n",
    "**Pending Steps**:\n",
    "1. Get the starting data\n",
    "    - Fetch HTML\n",
    "    - Find appropriate timeframe subsection\n",
    "    - Parse the .txt data to alpha-neumeric\n",
    "2. Create Classes both networks can leverage \n",
    "    - Pokemon Species (https://pypi.org/project/PokeapiWrapper/)\n",
    "        - Name\n",
    "        - Base stats\n",
    "        - Abilities\n",
    "        - Forms?\n",
    "    - Type\n",
    "        - Const Super Effectiveness Adjacency Matrix\n",
    "        - Static multiplier functions?\n",
    "    - Moves\n",
    "        - Power \n",
    "        - Accuracy\n",
    "        - Effect(s)\n",
    "        - Type\n",
    "        - Special / Physical\n",
    "3. Set up framework for facilitating battle sequence\n",
    "4. Prototype networks"
   ]
  },
  {
   "cell_type": "code",
   "execution_count": 5,
   "metadata": {},
   "outputs": [
    {
     "name": "stdout",
     "output_type": "stream",
     "text": [
      "2019-09\n"
     ]
    }
   ],
   "source": [
    "from datetime import date, timedelta\n",
    "\n",
    "timeago = timedelta(weeks = 5)\n",
    "timeframe = date.today() - timeago\n",
    "\n",
    "timeframe = timeframe.strftime(\"%Y-%m\")\n",
    "print (timeframe)"
   ]
  },
  {
   "cell_type": "code",
   "execution_count": null,
   "metadata": {},
   "outputs": [],
   "source": [
    "from BeautifulSoup import BeautifulSoup\n",
    "import urllib2\n",
    "import re\n",
    "\n",
    "URL = \"https://www.smogon.com/stats/\"\n",
    "URl = URL + timeframe + \"/\"\n",
    "\n",
    "index = "
   ]
  },
  {
   "cell_type": "code",
   "execution_count": 4,
   "metadata": {},
   "outputs": [],
   "source": [
    "s=[[1,2,1,1,1,1,1,1,1,1,1,1,1,1,1,1,1,1],\n",
    "[1,1,2,1,1,.5,.5,1,1,1,1,1,1,2,1,1,.5,2],\n",
    "[1,.5,1,1,0,2,.5,1,1,1,1,.5,2,1,2,1,1,1],\n",
    "[1,.5,1,.5,2,1,.5,1,1,1,1,.5,1,2,1,1,1,.5],\n",
    "[1,1,1,.5,1,.5,1,1,1,1,2,2,0,1,2,1,1,1],\n",
    "[.5,2,.5,.5,2,1,1,1,2,.5,2,2,1,1,1,1,1,1],\n",
    "[1,.5,2,1,.5,2,1,1,1,2,1,.5,1,1,1,1,1,1],\n",
    "[0,0,1,.5,1,1,.5,2,1,1,1,1,1,1,1,1,2,1],\n",
    "[.5,2,.5,0,2,.5,.5,1,.5,2,1,.5,1,.5,.5,.5,1,.5],\n",
    "[1,1,1,1,2,2,.5,1,.5,.5,2,.5,1,1,.5,1,1,.5],\n",
    "[1,1,1,1,1,1,1,1,.5,.5,.5,2,2,1,.5,1,1,1],\n",
    "[1,1,2,2,.5,1,2,1,1,2,.5,.5,.5,1,2,1,1,1],\n",
    "[1,1,.5,1,2,1,1,1,.5,1,1,1,.5,1,1,1,1,1],\n",
    "[1,.5,1,1,1,1,2,2,1,1,1,1,1,.5,1,1,2,1],\n",
    "[1,2,1,1,1,2,1,1,2,2,1,1,1,1,.5,1,1,1],\n",
    "[1,1,1,1,1,1,1,1,1,.5,.5,.5,.5,1,2,2,1,2],\n",
    "[1,2,1,1,1,1,2,.5,1,1,1,1,1,0,1,1,.5,2],\n",
    "[1,.5,1,2,1,1,.5,1,2,1,1,1,1,1,1,0,.5,1]]\n",
    "e=[\"Normal \",\"Fighting\",\"Flying  \",\"Poison \",\n",
    "   \"Ground \",\"Rock   \",\"Bug    \",\"Ghost  \",\n",
    "   \"Steel  \",\"Fire   \",\"Water  \",\"Grass  \",\n",
    "   \"Electric\",\"Psychic\",\"Ice    \",\"Dragon \",\n",
    "   \"Dark   \",\"Fairy  \"]"
   ]
  },
  {
   "cell_type": "code",
   "execution_count": null,
   "metadata": {},
   "outputs": [],
   "source": []
  }
 ],
 "metadata": {
  "kernelspec": {
   "display_name": "Python 3",
   "language": "python",
   "name": "python3"
  },
  "language_info": {
   "codemirror_mode": {
    "name": "ipython",
    "version": 3
   },
   "file_extension": ".py",
   "mimetype": "text/x-python",
   "name": "python",
   "nbconvert_exporter": "python",
   "pygments_lexer": "ipython3",
   "version": "3.7.4"
  }
 },
 "nbformat": 4,
 "nbformat_minor": 2
}
