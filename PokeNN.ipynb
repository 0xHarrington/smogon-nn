{
 "cells": [
  {
   "cell_type": "markdown",
   "metadata": {},
   "source": [
    "# Reinforcement Learning in Pokemon Battles\n",
    "#### How well can an autonomous agent play pokemon?\n",
    "---\n",
    "\n",
    "> Smogon.com/stats maintains an index of past and present metagame data. We can use this as both a starting point, and a metric for an agent's effectiveness. Use [this documentation](https://www.smogon.com/forums/threads/official-smogon-university-usage-statistics-discussion-thread-mk-3.3591776/) for reference "
   ]
  },
  {
   "cell_type": "markdown",
   "metadata": {},
   "source": [
    "**Main Ideas**:\n",
    "- Two Neural Nets are necessary:\n",
    "    1. Pre-match, what pokemon do I choose?\n",
    "        - Input: all pokemon and their potential moves/abilities/stats/helditems/etc. \n",
    "        - Potential for repsonsive, counter-picking?\n",
    "        - Outputs 6 Pokemon, their moves, held items, IVs, Abilities, & who leads\n",
    "    2. Mid-match, what action do I take for this turn?\n",
    "        - Takes as input...\n",
    "            - Enemy: HPs, status, types, idealized stats\n",
    "            - Player: HPs, statuses, types, stats, and the same for all other Mons' \n",
    "- Both Nets will train via reinforcement learning.\n",
    "- Tother, they make a competitive pokemon-playing agent that will train against itself for millenia"
   ]
  },
  {
   "cell_type": "markdown",
   "metadata": {},
   "source": [
    "**Pending Steps**:\n",
    "1. ~~Get the starting data~~\n",
    "    - Fetch HTML, parse the .josn data\n",
    "2. Create Classes both networks can leverage \n",
    "    - [Pokemon Species](https://pokeapi.co/docs/v2.html/#pokemon-section)\n",
    "        - Name, Base stats, Abilities, Forms?\n",
    "    - Type\n",
    "        - Const Super Effectiveness Adjacency Matrix\n",
    "        - Static multiplier functions?\n",
    "    - [Moves](https://pokeapi.co/docs/v2.html/#moves-section)\n",
    "        - Power, Accuracy, Effect(s), Type\n",
    "        - Special / Physical\n",
    "3. Set up framework for facilitating battle sequence\n",
    "4. Prototype networks"
   ]
  },
  {
   "cell_type": "markdown",
   "metadata": {},
   "source": [
    "---\n",
    "### First, fetch and parse the Smogon Stats HTML\n",
    "---"
   ]
  },
  {
   "cell_type": "code",
   "execution_count": 2,
   "metadata": {},
   "outputs": [
    {
     "name": "stdout",
     "output_type": "stream",
     "text": [
      "2019-09\n"
     ]
    }
   ],
   "source": [
    "from datetime import date, timedelta\n",
    "\n",
    "timeago = timedelta(weeks = 5)\n",
    "timeframe = date.today() - timeago\n",
    "\n",
    "timeframe = timeframe.strftime(\"%Y-%m\")\n",
    "print (timeframe)"
   ]
  },
  {
   "cell_type": "code",
   "execution_count": 5,
   "metadata": {},
   "outputs": [
    {
     "name": "stdout",
     "output_type": "stream",
     "text": [
      "gen7ou-1500\n"
     ]
    }
   ],
   "source": [
    "generation = 7\n",
    "metagame = \"ou\"\n",
    "weighting_baseline = 1500  # possible values: [0, 1500, 1630/1695, 1760/1825] \n",
    "\n",
    "INDEX = \"gen\" + str(generation) + metagame + \"-\" + str(weighting_baseline)\n",
    "print (INDEX)"
   ]
  },
  {
   "cell_type": "code",
   "execution_count": 6,
   "metadata": {},
   "outputs": [
    {
     "name": "stdout",
     "output_type": "stream",
     "text": [
      "https://www.smogon.com/stats/2019-09/chaos/gen7ou-1500.json\n"
     ]
    }
   ],
   "source": [
    "import urllib.request, json\n",
    "\n",
    "URL = \"https://www.smogon.com/stats/\" + timeframe + \"/chaos/\" + INDEX + \".json\"\n",
    "print (URL)\n",
    "\n",
    "ret = urllib.request.urlopen(URL)\n",
    "# raw_json = json.loads( ret.read().decode() )"
   ]
  },
  {
   "cell_type": "markdown",
   "metadata": {},
   "source": [
    "I'm downloading smogon/stats/[timeframe]/chaos since the JSON files allow for most open-ended analysis. It's format is as follows:\n",
    "\n",
    "ROOT\n",
    "- info {5}\n",
    "    - team type\n",
    "    - cutoff (weighting baseline, redundant from filename)\n",
    "    - cutoff deviation (??)\n",
    "    - Metagame (redundant from filename)\n",
    "    - Number of battles\n",
    "- data {*N Pokemon*}\n",
    "    - Pokemon $i$ {10}\n",
    "        - Moves ({move_name: weighted frequency I think?})\n",
    "        - Checks and Counters ({ Pokemon j: [Array of len 3 w/ weighted frequencies?] })\n",
    "        - Abilities ({ ability: weighted frequency? })\n",
    "        - Teammates ({ Pokemon: pos/neg weighted freuency i think })\n",
    "        - usage : Percentage of all teams I think\n",
    "        - Items ({ item: weighted frequency? })\n",
    "        - Raw Count: Integer\n",
    "        - Spreads ({ (Nature:IV Distribution): Weighted frequency })\n",
    "        - Happiness ({ Integer Value: Weighted frequency })\n",
    "        - [Viability Ceiling](https://www.smogon.com/forums/threads/viability-ceiling-a-measure-of-how-far-a-pokemon-can-take-you.3546373/) ( [0: number of players using the mon, 1: top GXE, 2: 99th percentile GXE, 3: 95th percentile GXE] )\n",
    "        \n",
    "[Explaining Usage vs Raw vs Real](https://www.smogon.com/forums/threads/official-smogon-university-usage-statistics-discussion-thread-mk-3.3591776/)"
   ]
  },
  {
   "cell_type": "code",
   "execution_count": null,
   "metadata": {},
   "outputs": [],
   "source": []
  },
  {
   "cell_type": "code",
   "execution_count": null,
   "metadata": {},
   "outputs": [],
   "source": []
  },
  {
   "cell_type": "code",
   "execution_count": null,
   "metadata": {},
   "outputs": [],
   "source": []
  },
  {
   "cell_type": "code",
   "execution_count": null,
   "metadata": {},
   "outputs": [],
   "source": []
  },
  {
   "cell_type": "code",
   "execution_count": null,
   "metadata": {},
   "outputs": [],
   "source": []
  },
  {
   "cell_type": "markdown",
   "metadata": {},
   "source": [
    "### Handling battle engine computations\n",
    "---"
   ]
  },
  {
   "cell_type": "markdown",
   "metadata": {},
   "source": [
    "For pokemon metadata, I'm using the [Pokebase](https://github.com/PokeAPI/pokebase) python 3 wrapper for the [PokeApi](https://pokeapi.co/) database. Look at the PokeAPI URL for a JSON breakdown."
   ]
  },
  {
   "cell_type": "code",
   "execution_count": 7,
   "metadata": {},
   "outputs": [
    {
     "name": "stdout",
     "output_type": "stream",
     "text": [
      "4\n",
      "[{'base_stat': 90, 'effort': 2, 'stat': {'name': 'speed', 'url': 'https://pokeapi.co/api/v2/stat/6/'}}, {'base_stat': 50, 'effort': 0, 'stat': {'name': 'special-defense', 'url': 'https://pokeapi.co/api/v2/stat/5/'}}, {'base_stat': 50, 'effort': 0, 'stat': {'name': 'special-attack', 'url': 'https://pokeapi.co/api/v2/stat/4/'}}, {'base_stat': 40, 'effort': 0, 'stat': {'name': 'defense', 'url': 'https://pokeapi.co/api/v2/stat/3/'}}, {'base_stat': 55, 'effort': 0, 'stat': {'name': 'attack', 'url': 'https://pokeapi.co/api/v2/stat/2/'}}, {'base_stat': 35, 'effort': 0, 'stat': {'name': 'hp', 'url': 'https://pokeapi.co/api/v2/stat/1/'}}]\n"
     ]
    }
   ],
   "source": [
    "import pokebase as pb\n",
    "\n",
    "# example hard-coded use case:\n",
    "pikachu = pb.pokemon(\"pikachu\")\n",
    "print (pikachu.height)\n",
    "print (pikachu.stats)"
   ]
  },
  {
   "cell_type": "markdown",
   "metadata": {},
   "source": [
    "##### Super Effective Calculations:"
   ]
  },
  {
   "cell_type": "code",
   "execution_count": null,
   "metadata": {},
   "outputs": [],
   "source": [
    "s=[[1,2,1,1,1,1,1,1,1,1,1,1,1,1,1,1,1,1],\n",
    "[1,1,2,1,1,.5,.5,1,1,1,1,1,1,2,1,1,.5,2],\n",
    "[1,.5,1,1,0,2,.5,1,1,1,1,.5,2,1,2,1,1,1],\n",
    "[1,.5,1,.5,2,1,.5,1,1,1,1,.5,1,2,1,1,1,.5],\n",
    "[1,1,1,.5,1,.5,1,1,1,1,2,2,0,1,2,1,1,1],\n",
    "[.5,2,.5,.5,2,1,1,1,2,.5,2,2,1,1,1,1,1,1],\n",
    "[1,.5,2,1,.5,2,1,1,1,2,1,.5,1,1,1,1,1,1],\n",
    "[0,0,1,.5,1,1,.5,2,1,1,1,1,1,1,1,1,2,1],\n",
    "[.5,2,.5,0,2,.5,.5,1,.5,2,1,.5,1,.5,.5,.5,1,.5],\n",
    "[1,1,1,1,2,2,.5,1,.5,.5,2,.5,1,1,.5,1,1,.5],\n",
    "[1,1,1,1,1,1,1,1,.5,.5,.5,2,2,1,.5,1,1,1],\n",
    "[1,1,2,2,.5,1,2,1,1,2,.5,.5,.5,1,2,1,1,1],\n",
    "[1,1,.5,1,2,1,1,1,.5,1,1,1,.5,1,1,1,1,1],\n",
    "[1,.5,1,1,1,1,2,2,1,1,1,1,1,.5,1,1,2,1],\n",
    "[1,2,1,1,1,2,1,1,2,2,1,1,1,1,.5,1,1,1],\n",
    "[1,1,1,1,1,1,1,1,1,.5,.5,.5,.5,1,2,2,1,2],\n",
    "[1,2,1,1,1,1,2,.5,1,1,1,1,1,0,1,1,.5,2],\n",
    "[1,.5,1,2,1,1,.5,1,2,1,1,1,1,1,1,0,.5,1]]\n",
    "e=[\"Normal \",\"Fighting\",\"Flying  \",\"Poison \",\n",
    "   \"Ground \",\"Rock   \",\"Bug    \",\"Ghost  \",\n",
    "   \"Steel  \",\"Fire   \",\"Water  \",\"Grass  \",\n",
    "   \"Electric\",\"Psychic\",\"Ice    \",\"Dragon \",\n",
    "   \"Dark   \",\"Fairy  \"]"
   ]
  },
  {
   "cell_type": "markdown",
   "metadata": {},
   "source": [
    "Consider different things to compute later: \n",
    "- [shapely values](https://www.wikiwand.com/en/Shapley_value)\n",
    "- [All about ratings](https://www.smogon.com/forums/threads/everything-you-ever-wanted-to-know-about-ratings.3487422/)\n",
    "\n",
    "References:\n",
    "- [Pokemetrics](https://pokemetrics.wordpress.com/)\n",
    "- [PokeAPI](https://pokeapi.co/) HUGE\n",
    "- [Stats Explained](https://www.smogon.com/forums/threads/official-smogon-university-usage-statistics-discussion-thread-mk-3.3591776/)"
   ]
  },
  {
   "cell_type": "code",
   "execution_count": null,
   "metadata": {},
   "outputs": [],
   "source": []
  },
  {
   "cell_type": "code",
   "execution_count": null,
   "metadata": {},
   "outputs": [],
   "source": []
  }
 ],
 "metadata": {
  "kernelspec": {
   "display_name": "Python 3",
   "language": "python",
   "name": "python3"
  },
  "language_info": {
   "codemirror_mode": {
    "name": "ipython",
    "version": 3
   },
   "file_extension": ".py",
   "mimetype": "text/x-python",
   "name": "python",
   "nbconvert_exporter": "python",
   "pygments_lexer": "ipython3",
   "version": "3.7.4"
  }
 },
 "nbformat": 4,
 "nbformat_minor": 2
}
