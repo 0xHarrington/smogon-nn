{
 "cells": [
  {
   "cell_type": "markdown",
   "metadata": {},
   "source": [
    "# Reinforcement Learning in Pokemon Battles\n",
    "#### How well can an autonomous agent play pokemon?\n",
    "---\n",
    "\n",
    "> Smogon.com/stats maintains an index of past and present metagame data. We can use this as both a starting point, and a metric for an agent's effectiveness. Use [this documentation](https://www.smogon.com/forums/threads/official-smogon-university-usage-statistics-discussion-thread-mk-3.3591776/) for reference "
   ]
  },
  {
   "cell_type": "markdown",
   "metadata": {},
   "source": [
    "**Main Ideas**:\n",
    "- Two Neural Nets are necessary:\n",
    "    1. Pre-match, what pokemon do I choose?\n",
    "        - Input: all pokemon and their potential moves/abilities/stats/helditems/etc. \n",
    "        - Potential for repsonsive, counter-picking?\n",
    "        - Outputs 6 Pokemon, their moves, held items, IVs, Abilities, & who leads\n",
    "    2. Mid-match, what action do I take for this turn?\n",
    "        - Takes as input...\n",
    "            - Enemy: HPs, status, types, idealized stats\n",
    "            - Player: HPs, statuses, types, stats, and the same for all other Mons' \n",
    "- Both Nets will train via reinforcement learning.\n",
    "- Tother, they make a competitive pokemon-playing agent that will train against itself for millenia"
   ]
  },
  {
   "cell_type": "markdown",
   "metadata": {},
   "source": [
    "**Pending Steps**:\n",
    "1. ~~Get the starting data~~\n",
    "    - Fetch HTML, parse the .josn data\n",
    "2. Create Classes both networks can leverage \n",
    "    - [Pokemon Species](https://pokeapi.co/docs/v2.html/#pokemon-section)\n",
    "        - Name, Base stats, Abilities, Forms?\n",
    "    - Type\n",
    "        - Const Super Effectiveness Adjacency Matrix\n",
    "        - Static multiplier functions?\n",
    "    - [Moves](https://pokeapi.co/docs/v2.html/#moves-section)\n",
    "        - Power, Accuracy, Effect(s), Type\n",
    "        - Special / Physical\n",
    "3. Set up framework for facilitating battle sequence\n",
    "4. Prototype networks"
   ]
  },
  {
   "cell_type": "markdown",
   "metadata": {},
   "source": [
    "---\n",
    "### First, fetch and parse the Smogon Stats HTML\n",
    "---"
   ]
  },
  {
   "cell_type": "code",
   "execution_count": 1,
   "metadata": {},
   "outputs": [
    {
     "name": "stdout",
     "output_type": "stream",
     "text": [
      "2018-12\n"
     ]
    }
   ],
   "source": [
    "from datetime import date, timedelta\n",
    "\n",
    "timeago = timedelta(weeks = 50)\n",
    "timeframe = date.today() - timeago\n",
    "\n",
    "timeframe = timeframe.strftime(\"%Y-%m\")\n",
    "print (timeframe)"
   ]
  },
  {
   "cell_type": "code",
   "execution_count": 2,
   "metadata": {},
   "outputs": [
    {
     "name": "stdout",
     "output_type": "stream",
     "text": [
      "gen7ou-1500\n"
     ]
    }
   ],
   "source": [
    "generation = 7\n",
    "metagame = \"ou\"\n",
    "weighting_baseline = 1500  # possible values: [0, 1500, 1630/1695, 1760/1825] \n",
    "\n",
    "INDEX = \"gen\" + str(generation) + metagame + \"-\" + str(weighting_baseline)\n",
    "print (INDEX)"
   ]
  },
  {
   "cell_type": "code",
   "execution_count": 3,
   "metadata": {},
   "outputs": [
    {
     "name": "stdout",
     "output_type": "stream",
     "text": [
      "https://www.smogon.com/stats/2018-12/chaos/gen7ou-1500.json\n"
     ]
    }
   ],
   "source": [
    "import urllib.request, json\n",
    "\n",
    "URL = \"https://www.smogon.com/stats/\" + timeframe + \"/chaos/\" + INDEX + \".json\"\n",
    "print (URL)\n",
    "\n",
    "ret = urllib.request.urlopen(URL)\n",
    "# raw_json = json.loads( ret.read().decode() )"
   ]
  },
  {
   "cell_type": "markdown",
   "metadata": {},
   "source": [
    "I'm downloading `smogon/stats/[timeframe]/chaos` since the JSON files allow for most open-ended analysis. It's format is as follows:\n",
    "\n",
    "ROOT\n",
    "- info {5}\n",
    "    - team type\n",
    "    - cutoff (weighting baseline, redundant from filename)\n",
    "    - cutoff deviation (??)\n",
    "    - Metagame (redundant from filename)\n",
    "    - Number of battles\n",
    "- data {*N Pokemon*}\n",
    "    - Pokemon $i$ {10}\n",
    "        - Moves ({move_name: weighted frequency I think?})\n",
    "        - Checks and Counters ({ Pokemon j: [Array of len 3 w/ weighted frequencies?] })\n",
    "        - Abilities ({ ability: weighted frequency? })\n",
    "        - Teammates ({ Pokemon: pos/neg weighted freuency i think })\n",
    "        - usage : Percentage of all teams I think\n",
    "        - Items ({ item: weighted frequency? })\n",
    "        - Raw Count: Integer\n",
    "        - Spreads ({ (Nature:IV Distribution): Weighted frequency })\n",
    "        - Happiness ({ Integer Value: Weighted frequency })\n",
    "        - [Viability Ceiling](https://www.smogon.com/forums/threads/viability-ceiling-a-measure-of-how-far-a-pokemon-can-take-you.3546373/) ( [0: number of players using the mon, 1: top GXE, 2: 99th percentile GXE, 3: 95th percentile GXE] )\n",
    "        \n",
    "[Explaining Usage vs Raw vs Real](https://www.smogon.com/forums/threads/official-smogon-university-usage-statistics-discussion-thread-mk-3.3591776/)"
   ]
  },
  {
   "cell_type": "markdown",
   "metadata": {},
   "source": [
    "Our new weighting system\n",
    "So with our stated premise that we're looking only at teams used by players who are better than average, and with our definition of average, the obvious solution is to throw out teams by players whose rating is less than or equal to 1500. While this is certainly simple enough, it has the problem that, in the Glicko2 system, we don't actually know a player's true rating. We only know the probability distribution corresponding to their rating.\n",
    "\n",
    "But all is not lost, because it's relatively simple to figure out what the likelihood is that a player's true rating is greater than 1500: it's just the integral of their rating distribution from 1500 to infinity, which works out to be\n",
    "\n",
    "$P(r>1500)=(1+erf((rating-1500)/(sqrt(2)*deviation)))/2$"
   ]
  },
  {
   "cell_type": "markdown",
   "metadata": {},
   "source": [
    "let movecount = 0;\n",
    "   for (var i in ttar.Moves) movecount += ttar.Moves;\n",
    "   movecount/4 === ttar['Raw count']\n",
    "   true"
   ]
  },
  {
   "cell_type": "code",
   "execution_count": null,
   "metadata": {},
   "outputs": [],
   "source": [
    "import pokebase as pb\n",
    "\n",
    "# Wrapper for a pokemon species \n",
    "class Species:\n",
    "    \n",
    "    # Returns a tuple of length 1-2\n",
    "    def get_type(self):\n",
    "        return self.type\n",
    "    \n",
    "    # Returns a dict - { move_name: {base_power: xx, type: xx, status/phys/spec: xx, rng: {%: xx, effect: xx}}, ... }\n",
    "    def get_possible_moves(self):\n",
    "        return self.available_moves\n",
    "    \n",
    "    # Returns a dict - { HP: xx, Atk: xx, Def: xx,... }\n",
    "    def get_base_stats(self):\n",
    "        return self.base_stats\n",
    "    \n",
    "    def __init__(self, name, generation):\n",
    "        \n",
    "        # call pokeapi with name\n",
    "        species = pb(name)\n",
    "        self.name = name\n",
    "        self.base_stats = species.stats \n",
    "        self.available_moves = species.SOMETHING\n",
    "        self.type = species.SOMETHING\n",
    "        \n",
    "        # Need some visibility to the species's generation, accounting for variations across games \n",
    "        self.generation = generation"
   ]
  },
  {
   "cell_type": "code",
   "execution_count": null,
   "metadata": {},
   "outputs": [],
   "source": [
    "# Wrapper for a pokemon in-battle\n",
    "class Battle_Poke:\n",
    "    \n",
    "    def __init__(self, species, moves, EVs, IVs, Nature):\n",
    "        self.base_stats = species.base_stats\n",
    "        self.type = species.type\n",
    "        \n",
    "        if moves.keys in species.available_moves.keys:\n",
    "            self.moves = moves\n",
    "        else:\n",
    "            invalid_list = []\n",
    "            for move in moves.keys:\n",
    "                if move is not in species.available_moves.keys:\n",
    "                    invalid_moves.push(move)\n",
    "            invalid_moves = ','.join(invalid_list)\n",
    "            raise ValueError(\"{} is/are not valid move(s) for {} in {}\".format(invalid_moves, species.name, species.generation))"
   ]
  },
  {
   "cell_type": "markdown",
   "metadata": {},
   "source": [
    "### Handling battle engine computations\n",
    "---"
   ]
  },
  {
   "cell_type": "markdown",
   "metadata": {},
   "source": [
    "For pokemon metadata, I'm using the [Pokebase](https://github.com/PokeAPI/pokebase) python 3 wrapper for the [PokeApi](https://pokeapi.co/) database. Look at the PokeAPI URL for a JSON breakdown."
   ]
  },
  {
   "cell_type": "code",
   "execution_count": 4,
   "metadata": {},
   "outputs": [
    {
     "ename": "ModuleNotFoundError",
     "evalue": "No module named 'pokebase'",
     "output_type": "error",
     "traceback": [
      "\u001b[0;31m---------------------------------------------------------------------------\u001b[0m",
      "\u001b[0;31mModuleNotFoundError\u001b[0m                       Traceback (most recent call last)",
      "\u001b[0;32m<ipython-input-4-c8700c7d0ea3>\u001b[0m in \u001b[0;36m<module>\u001b[0;34m\u001b[0m\n\u001b[0;32m----> 1\u001b[0;31m \u001b[0;32mimport\u001b[0m \u001b[0mpokebase\u001b[0m \u001b[0;32mas\u001b[0m \u001b[0mpb\u001b[0m\u001b[0;34m\u001b[0m\u001b[0;34m\u001b[0m\u001b[0m\n\u001b[0m\u001b[1;32m      2\u001b[0m \u001b[0;34m\u001b[0m\u001b[0m\n\u001b[1;32m      3\u001b[0m \u001b[0;31m# example hard-coded use case:\u001b[0m\u001b[0;34m\u001b[0m\u001b[0;34m\u001b[0m\u001b[0;34m\u001b[0m\u001b[0m\n\u001b[1;32m      4\u001b[0m \u001b[0mpikachu\u001b[0m \u001b[0;34m=\u001b[0m \u001b[0mpb\u001b[0m\u001b[0;34m.\u001b[0m\u001b[0mpokemon\u001b[0m\u001b[0;34m(\u001b[0m\u001b[0;34m\"pikachu\"\u001b[0m\u001b[0;34m)\u001b[0m\u001b[0;34m\u001b[0m\u001b[0;34m\u001b[0m\u001b[0m\n\u001b[1;32m      5\u001b[0m \u001b[0mprint\u001b[0m \u001b[0;34m(\u001b[0m\u001b[0mpikachu\u001b[0m\u001b[0;34m.\u001b[0m\u001b[0mheight\u001b[0m\u001b[0;34m)\u001b[0m\u001b[0;34m\u001b[0m\u001b[0;34m\u001b[0m\u001b[0m\n",
      "\u001b[0;31mModuleNotFoundError\u001b[0m: No module named 'pokebase'"
     ]
    }
   ],
   "source": [
    "import pokebase as pb\n",
    "\n",
    "# example hard-coded use case:\n",
    "pikachu = pb.pokemon(\"pikachu\")\n",
    "print (pikachu.height)\n",
    "print (pikachu.stats)"
   ]
  },
  {
   "cell_type": "markdown",
   "metadata": {},
   "source": [
    "##### Super Effective Calculations:"
   ]
  },
  {
   "cell_type": "code",
   "execution_count": null,
   "metadata": {},
   "outputs": [],
   "source": [
    "s=[[1,2,1,1,1,1,1,1,1,1,1,1,1,1,1,1,1,1],\n",
    "[1,1,2,1,1,.5,.5,1,1,1,1,1,1,2,1,1,.5,2],\n",
    "[1,.5,1,1,0,2,.5,1,1,1,1,.5,2,1,2,1,1,1],\n",
    "[1,.5,1,.5,2,1,.5,1,1,1,1,.5,1,2,1,1,1,.5],\n",
    "[1,1,1,.5,1,.5,1,1,1,1,2,2,0,1,2,1,1,1],\n",
    "[.5,2,.5,.5,2,1,1,1,2,.5,2,2,1,1,1,1,1,1],\n",
    "[1,.5,2,1,.5,2,1,1,1,2,1,.5,1,1,1,1,1,1],\n",
    "[0,0,1,.5,1,1,.5,2,1,1,1,1,1,1,1,1,2,1],\n",
    "[.5,2,.5,0,2,.5,.5,1,.5,2,1,.5,1,.5,.5,.5,1,.5],\n",
    "[1,1,1,1,2,2,.5,1,.5,.5,2,.5,1,1,.5,1,1,.5],\n",
    "[1,1,1,1,1,1,1,1,.5,.5,.5,2,2,1,.5,1,1,1],\n",
    "[1,1,2,2,.5,1,2,1,1,2,.5,.5,.5,1,2,1,1,1],\n",
    "[1,1,.5,1,2,1,1,1,.5,1,1,1,.5,1,1,1,1,1],\n",
    "[1,.5,1,1,1,1,2,2,1,1,1,1,1,.5,1,1,2,1],\n",
    "[1,2,1,1,1,2,1,1,2,2,1,1,1,1,.5,1,1,1],\n",
    "[1,1,1,1,1,1,1,1,1,.5,.5,.5,.5,1,2,2,1,2],\n",
    "[1,2,1,1,1,1,2,.5,1,1,1,1,1,0,1,1,.5,2],\n",
    "[1,.5,1,2,1,1,.5,1,2,1,1,1,1,1,1,0,.5,1]]\n",
    "e=[\"Normal \",\"Fighting\",\"Flying  \",\"Poison \",\n",
    "   \"Ground \",\"Rock   \",\"Bug    \",\"Ghost  \",\n",
    "   \"Steel  \",\"Fire   \",\"Water  \",\"Grass  \",\n",
    "   \"Electric\",\"Psychic\",\"Ice    \",\"Dragon \",\n",
    "   \"Dark   \",\"Fairy  \"]"
   ]
  },
  {
   "cell_type": "markdown",
   "metadata": {},
   "source": [
    "Consider different things to compute later: \n",
    "- [shapely values](https://www.wikiwand.com/en/Shapley_value)\n",
    "- [All about ratings](https://www.smogon.com/forums/threads/everything-you-ever-wanted-to-know-about-ratings.3487422/)\n",
    "\n",
    "References:\n",
    "- [Pokemetrics](https://pokemetrics.wordpress.com/)\n",
    "- [PokeAPI](https://pokeapi.co/) HUGE\n",
    "- [Stats Explained](https://www.smogon.com/forums/threads/official-smogon-university-usage-statistics-discussion-thread-mk-3.3591776/)"
   ]
  },
  {
   "cell_type": "code",
   "execution_count": null,
   "metadata": {},
   "outputs": [],
   "source": []
  },
  {
   "cell_type": "code",
   "execution_count": null,
   "metadata": {},
   "outputs": [],
   "source": []
  }
 ],
 "metadata": {
  "kernelspec": {
   "display_name": "Python 3",
   "language": "python",
   "name": "python3"
  },
  "language_info": {
   "codemirror_mode": {
    "name": "ipython",
    "version": 3
   },
   "file_extension": ".py",
   "mimetype": "text/x-python",
   "name": "python",
   "nbconvert_exporter": "python",
   "pygments_lexer": "ipython3",
   "version": "3.7.6"
  }
 },
 "nbformat": 4,
 "nbformat_minor": 2
}
